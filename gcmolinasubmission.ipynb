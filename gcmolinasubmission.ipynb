{
 "cells": [
  {
   "cell_type": "markdown",
   "id": "9dc27289",
   "metadata": {},
   "source": [
    "# Data Science Tools and Ecosystems"
   ]
  },
  {
   "cell_type": "markdown",
   "id": "c935d0b0",
   "metadata": {},
   "source": [
    "- In this notebook, Data Science Tools and Ecosystem are summarized"
   ]
  },
  {
   "cell_type": "code",
   "execution_count": 30,
   "id": "52465de2",
   "metadata": {},
   "outputs": [],
   "source": [
    "## writing text use the print command"
   ]
  },
  {
   "cell_type": "markdown",
   "id": "ae22ef7a",
   "metadata": {},
   "source": [
    "## Some of the popular languages that Data Scientists use are:"
   ]
  },
  {
   "cell_type": "code",
   "execution_count": 31,
   "id": "4c5d5a07",
   "metadata": {},
   "outputs": [
    {
     "name": "stdout",
     "output_type": "stream",
     "text": [
      "Python\n"
     ]
    }
   ],
   "source": [
    "print(\"Python\")"
   ]
  },
  {
   "cell_type": "code",
   "execution_count": 32,
   "id": "7bc7f1b5",
   "metadata": {},
   "outputs": [
    {
     "name": "stdout",
     "output_type": "stream",
     "text": [
      "R\n"
     ]
    }
   ],
   "source": [
    "print(\"R\")"
   ]
  },
  {
   "cell_type": "code",
   "execution_count": 33,
   "id": "fc14c2ee",
   "metadata": {},
   "outputs": [
    {
     "name": "stdout",
     "output_type": "stream",
     "text": [
      "Julia\n"
     ]
    }
   ],
   "source": [
    "print(\"Julia\")"
   ]
  },
  {
   "cell_type": "markdown",
   "id": "fe55eae0",
   "metadata": {},
   "source": [
    "## Some of the commonly used libraries used by Data Scientists include:"
   ]
  },
  {
   "cell_type": "code",
   "execution_count": 34,
   "id": "d382246e",
   "metadata": {},
   "outputs": [
    {
     "name": "stdout",
     "output_type": "stream",
     "text": [
      "1.Pandas, 2. NumPY, 3. Matlabplot, 4. GitHub\n"
     ]
    }
   ],
   "source": [
    "print(\"1.Pandas, 2. NumPY, 3. Matlabplot, 4. GitHub\")"
   ]
  },
  {
   "cell_type": "markdown",
   "id": "9682511c",
   "metadata": {},
   "source": [
    "### Data Science Tools"
   ]
  },
  {
   "cell_type": "markdown",
   "id": "07980c2d",
   "metadata": {},
   "source": [
    "Three Development Environment Open Source Tools\n",
    "\n",
    "| Visual Code Studio | Eclipse | Node.Js |"
   ]
  },
  {
   "cell_type": "markdown",
   "id": "3211bb36",
   "metadata": {},
   "source": [
    "### Example of Evaluating arithmetic expression in Python"
   ]
  },
  {
   "cell_type": "code",
   "execution_count": 35,
   "id": "1bd00f0f",
   "metadata": {},
   "outputs": [
    {
     "data": {
      "text/plain": [
       "16"
      ]
     },
     "execution_count": 35,
     "metadata": {},
     "output_type": "execute_result"
    }
   ],
   "source": [
    "(8*2)"
   ]
  },
  {
   "cell_type": "code",
   "execution_count": 36,
   "id": "4d0cceab",
   "metadata": {},
   "outputs": [
    {
     "data": {
      "text/plain": [
       "16"
      ]
     },
     "execution_count": 36,
     "metadata": {},
     "output_type": "execute_result"
    }
   ],
   "source": [
    "(2*3+10)"
   ]
  },
  {
   "cell_type": "code",
   "execution_count": 37,
   "id": "eaaea79c",
   "metadata": {},
   "outputs": [
    {
     "data": {
      "text/plain": [
       "1745"
      ]
     },
     "execution_count": 37,
     "metadata": {},
     "output_type": "execute_result"
    }
   ],
   "source": [
    "(88*20-15)"
   ]
  },
  {
   "cell_type": "markdown",
   "id": "2fc78e66",
   "metadata": {},
   "source": [
    "### Multiplying and adding integers"
   ]
  },
  {
   "cell_type": "code",
   "execution_count": null,
   "id": "a26d413a",
   "metadata": {},
   "outputs": [],
   "source": [
    "# We use PEMDAS to evaluate the parathesis and then continue with the Order of Operations"
   ]
  },
  {
   "cell_type": "code",
   "execution_count": 38,
   "id": "b817cf30",
   "metadata": {},
   "outputs": [
    {
     "data": {
      "text/plain": [
       "17"
      ]
     },
     "execution_count": 38,
     "metadata": {},
     "output_type": "execute_result"
    }
   ],
   "source": [
    "(3*4)+5"
   ]
  },
  {
   "cell_type": "markdown",
   "id": "75deb81a",
   "metadata": {},
   "source": [
    "### Converting Minutes to Hours"
   ]
  },
  {
   "cell_type": "code",
   "execution_count": null,
   "id": "d3e7c23b",
   "metadata": {},
   "outputs": [],
   "source": [
    "# This will convert 200 minutes to hours by dividing by 60"
   ]
  },
  {
   "cell_type": "code",
   "execution_count": 40,
   "id": "8873fd99",
   "metadata": {},
   "outputs": [
    {
     "name": "stdout",
     "output_type": "stream",
     "text": [
      "3.3333333333333335\n"
     ]
    }
   ],
   "source": [
    "m = 200\n",
    "h = 60\n",
    "\n",
    "print (m/h)"
   ]
  },
  {
   "cell_type": "markdown",
   "id": "3abbf096",
   "metadata": {},
   "source": [
    "**Objectives:**\n",
    "- List popular languages in Data Science\n",
    "- List associated libraries with Data Science\n",
    "- Familiarizing yourself with the markdown and cell functionalities"
   ]
  },
  {
   "cell_type": "markdown",
   "id": "10a80b9e",
   "metadata": {},
   "source": [
    "## Author \n",
    "Giancarlo Molina"
   ]
  }
 ],
 "metadata": {
  "kernelspec": {
   "display_name": "Python 3 (ipykernel)",
   "language": "python",
   "name": "python3"
  },
  "language_info": {
   "codemirror_mode": {
    "name": "ipython",
    "version": 3
   },
   "file_extension": ".py",
   "mimetype": "text/x-python",
   "name": "python",
   "nbconvert_exporter": "python",
   "pygments_lexer": "ipython3",
   "version": "3.10.9"
  }
 },
 "nbformat": 4,
 "nbformat_minor": 5
}
